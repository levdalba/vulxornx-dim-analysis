{
 "cells": [
  {
   "cell_type": "code",
   "execution_count": null,
   "id": "5998bd21-b929-4516-b8c4-6d11c297132c",
   "metadata": {},
   "outputs": [],
   "source": [
    "from ultralytics import YOLO\n",
    "import os\n",
    "\n",
    "# Set the path to your data.yaml file\n",
    "data_path = \"/Users/levandalbashvili/Documents/GitHub/vulxornx-dim-analysis/data.yaml\"\n",
    "\n",
    "# Initialize the YOLOv8 model with pre-trained weights\n",
    "model = YOLO(\"yolov8n.pt\")\n",
    "\n",
    "# Train the model with optimized parameters\n",
    "results = model.train(\n",
    "    data=data_path,  # Path to your data.yaml\n",
    "    epochs=50,       # Number of training epochs (adjust if overfitting occurs)\n",
    "    imgsz=640,       # Image size for training (resize images to 640x640)\n",
    "    batch=8,         # Batch size (small for your limited dataset)\n",
    "    patience=10,     # Early stopping: stop if no improvement for 10 epochs\n",
    "    project=\"runs/train\",  # Save training results in 'runs/train'\n",
    "    name=\"exp\",      # Name of the experiment (creates 'runs/train/exp')\n",
    "    exist_ok=True,   # Allow overwriting existing runs\n",
    "    augment=True,    # Enable data augmentation (default, for robustness to rotations)\n",
    "    optimizer=\"Adam\",  # Use Adam optimizer (can converge faster for small datasets)\n",
    "    lr0=0.001,      # Initial learning rate (adjust if needed, default is 0.01)\n",
    "    momentum=0.9,   # Momentum for SGD (or use with Adam if applicable)\n",
    "    weight_decay=0.0005,  # Weight decay for regularization (helps prevent overfitting)\n",
    "    verbose=True     # Print detailed training logs\n",
    ")\n",
    "\n",
    "# Print training results\n",
    "print(results)"
   ]
  },
  {
   "cell_type": "code",
   "execution_count": null,
   "id": "c0cbb3e6-46d8-4c1f-9b9e-308dbf0bf671",
   "metadata": {},
   "outputs": [],
   "source": []
  }
 ],
 "metadata": {
  "kernelspec": {
   "display_name": "Python 3 (ipykernel)",
   "language": "python",
   "name": "python3"
  },
  "language_info": {
   "codemirror_mode": {
    "name": "ipython",
    "version": 3
   },
   "file_extension": ".py",
   "mimetype": "text/x-python",
   "name": "python",
   "nbconvert_exporter": "python",
   "pygments_lexer": "ipython3",
   "version": "3.9.21"
  }
 },
 "nbformat": 4,
 "nbformat_minor": 5
}
